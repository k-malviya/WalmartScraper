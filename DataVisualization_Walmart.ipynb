{
 "cells": [
  {
   "cell_type": "code",
   "execution_count": null,
   "metadata": {},
   "outputs": [],
   "source": [
    "%matplotlib inline\n",
    "%timeit"
   ]
  },
  {
   "cell_type": "code",
   "execution_count": null,
   "metadata": {},
   "outputs": [],
   "source": [
    "import pandas as pd\n",
    "import numpy as np\n",
    "from matplotlib import pyplot as plt\n",
    "plt.style.use('ggplot')"
   ]
  },
  {
   "cell_type": "code",
   "execution_count": null,
   "metadata": {
    "scrolled": false
   },
   "outputs": [],
   "source": [
    "df_Laptops = pd.read_csv(\"./Laptop Computer.csv\")\n",
    "df_Laptops"
   ]
  },
  {
   "cell_type": "code",
   "execution_count": null,
   "metadata": {},
   "outputs": [],
   "source": [
    "df_Laptops.shape"
   ]
  },
  {
   "cell_type": "code",
   "execution_count": null,
   "metadata": {},
   "outputs": [],
   "source": [
    "df_Laptops[\"AveRating\"] = pd.to_numeric(df_Laptops[\"AveRating\"])\n",
    "df_Laptops[\"reviewCount\"] = pd.to_numeric(df_Laptops[\"reviewCount\"])\n"
   ]
  },
  {
   "cell_type": "code",
   "execution_count": null,
   "metadata": {},
   "outputs": [],
   "source": [
    "pd.set_option('display.max_columns', 100)"
   ]
  },
  {
   "cell_type": "code",
   "execution_count": null,
   "metadata": {},
   "outputs": [],
   "source": [
    "df_Laptops[\"sellPrice\"] =df_Laptops['sellPrice'].str.replace('$', '')\n",
    "df_Laptops['sellPrice'] = df_Laptops['sellPrice'].str.replace(',', '')\n",
    "df_Laptops[\"sellPrice\"] = pd.to_numeric(df_Laptops[\"sellPrice\"])\n",
    "df_Laptops\n"
   ]
  },
  {
   "cell_type": "code",
   "execution_count": null,
   "metadata": {},
   "outputs": [],
   "source": [
    "df_Laptops[\"ListPrice\"] =df_Laptops['ListPrice'].str.replace('$', '')\n",
    "df_Laptops['ListPrice'] = df_Laptops['ListPrice'].str.replace(',', '')\n",
    "df_Laptops[\"ListPrice\"] = pd.to_numeric(df_Laptops[\"ListPrice\"])\n",
    "df_Laptops"
   ]
  },
  {
   "cell_type": "code",
   "execution_count": null,
   "metadata": {},
   "outputs": [],
   "source": [
    "Laptop_count=df_Laptops[\"brandName\"].value_counts()\n",
    "Laptop_count"
   ]
  },
  {
   "cell_type": "code",
   "execution_count": null,
   "metadata": {},
   "outputs": [],
   "source": [
    "threshold = 10 # Anything that occurs less than this will be removed.\n",
    "value_counts = df_Laptops[\"brandName\"].value_counts() # Entire DataFrame \n",
    "to_remove = value_counts[value_counts <= threshold].index\n",
    "df_Laptops.replace(to_remove, np.nan, inplace=True)\n",
    "\n",
    "\n",
    "BrandCount = df_Laptops['brandName'].value_counts().plot(kind='bar',\n",
    "                                       figsize=(14,8),\n",
    "                                      title=\"Number of Products Listed by each Brand\")\n",
    "BrandCount.set_xlabel(\"BrandName\")\n",
    "BrandCount.set_ylabel(\"Frequency\")\n",
    "plt.show()\n",
    "\n"
   ]
  },
  {
   "cell_type": "code",
   "execution_count": null,
   "metadata": {},
   "outputs": [],
   "source": [
    "df_brandName=df_Laptops.copy()\n",
    "\n",
    "df_brandName\n"
   ]
  },
  {
   "cell_type": "code",
   "execution_count": null,
   "metadata": {},
   "outputs": [],
   "source": [
    "df_brandName.groupby('brandName')['sellPrice'].mean().sort_values(ascending=False).plot(kind='bar', figsize=(14,8),\n",
    "                                                                                        title=\"AvgPrice of Products for each Brand\")\n",
    "\n",
    "plt.xlabel('Brand Name')\n",
    "plt.ylabel('Averge sell Price')"
   ]
  },
  {
   "cell_type": "code",
   "execution_count": null,
   "metadata": {},
   "outputs": [],
   "source": [
    "ProductCount_BySeller = df_Laptops['sellerName'].value_counts()\n",
    "ProductCount_BySeller"
   ]
  },
  {
   "cell_type": "code",
   "execution_count": null,
   "metadata": {},
   "outputs": [],
   "source": [
    "\n",
    "threshold = 10 # Anything that occurs less than this will be removed.\n",
    "value_counts = df_Laptops[\"sellerName\"].value_counts() # Entire DataFrame \n",
    "to_remove = value_counts[value_counts <= threshold].index\n",
    "df_Laptops.replace(to_remove, np.nan, inplace=True)\n",
    "\n",
    "\n",
    "\n",
    "Product_Count = df_Laptops['sellerName'].value_counts().plot(kind='bar',figsize=(12,8),title=\"Number of Poducts Listed by Sellers\")\n",
    "Product_Count.set_xlabel(\"SellerName\")\n",
    "Product_Count.set_ylabel(\"Frequency\")\n",
    "plt.show()"
   ]
  },
  {
   "cell_type": "code",
   "execution_count": null,
   "metadata": {},
   "outputs": [],
   "source": [
    "plt.figure(figsize=(12,6))\n",
    "df_Laptops.groupby('brandName')['AveRating'].mean().sort_values(ascending=False).plot.bar()\n",
    "plt.ylabel(\"Avg Rating\")"
   ]
  },
  {
   "cell_type": "code",
   "execution_count": null,
   "metadata": {},
   "outputs": [],
   "source": [
    "plt.figure(figsize=(12,6))\n",
    "df_Laptops.groupby('brandName')['reviewCount'].median().sort_values(ascending=False).plot.bar()\n",
    "plt.ylabel(\"Count of Reviews \")"
   ]
  },
  {
   "cell_type": "code",
   "execution_count": null,
   "metadata": {},
   "outputs": [],
   "source": [
    "import seaborn as sns\n",
    "sns.lmplot(\"reviewCount\",\"AveRating\", df_Laptops, palette=\"Set2\")\n"
   ]
  },
  {
   "cell_type": "code",
   "execution_count": null,
   "metadata": {},
   "outputs": [],
   "source": [
    "brandGrid = sns.FacetGrid(df_Laptops, col='sellPrice', hue=\"sellPrice\", palette=\"Set1\")\n",
    "brandGrid.map(sns.distplot, \"brandName\")"
   ]
  },
  {
   "cell_type": "code",
   "execution_count": null,
   "metadata": {},
   "outputs": [],
   "source": [
    "import seaborn as sns\n",
    "\n",
    "log_sellPrice = np.log(df_Laptops['sellPrice']) # to get the distribution of the budget \n",
    "log_sellPrice.plot.hist()\n",
    "plt.xlabel('Sell Price (in hundreds)')\n",
    "plt.ylabel('Count')\n",
    "plt.title('Price Segments', fontsize=20)"
   ]
  },
  {
   "cell_type": "code",
   "execution_count": null,
   "metadata": {},
   "outputs": [],
   "source": [
    "df_Laptops[[\"brandName\", \"prodName\"]].head(40)"
   ]
  },
  {
   "cell_type": "code",
   "execution_count": null,
   "metadata": {},
   "outputs": [],
   "source": [
    "from wordcloud import WordCloud\n",
    "text = [\"Intel Core\",\"Chromebook\",\"Convertible\",\"Touchscreen Laptop\",\"ThinkPad\", \"Celeron\",\"Refurbished\",\"16GB\",\"8GB\" ,\"RAM\" ,\"128GB\",\"SSD\",\"HDD\",\"15.6\",\"Dual\", \"Gaming\" ,\" Business\",\"Quad\" ,\"HP\",\"Lenovo\",\"Apple\",\"LG\",\"Dell\",\"Acer\",\"Latitude\",\"Microsoft\",\"MSI\", \"Macbook\", \"Air\", \"Pro\"]\n",
    "\n",
    "# Create and generate a word cloud image:\n",
    "wordcloud = WordCloud(max_font_size=100, max_words=100, background_color=\"cyan\",width=600,height=400).generate(\" \".join(text))\n",
    "\n",
    "# Display the generated image:\n",
    "plt.imshow(wordcloud,interpolation='bilinear')\n",
    "plt.axis(\"off\")\n",
    "plt.show()"
   ]
  },
  {
   "cell_type": "code",
   "execution_count": null,
   "metadata": {},
   "outputs": [],
   "source": [
    "Price_ReviewCount = df_Laptops[['sellPrice','reviewCount']]\n",
    "Price_ReviewCount.plot.scatter(\"sellPrice\",\"reviewCount\")\n",
    "plt.xlabel('Sell Price')\n",
    "plt.ylabel('Review Count')\n",
    "plt.xlim(50,2000)\n",
    "plt.ylim(10,1000)\n"
   ]
  }
 ],
 "metadata": {
  "kernelspec": {
   "display_name": "Python 3",
   "language": "python",
   "name": "python3"
  },
  "language_info": {
   "codemirror_mode": {
    "name": "ipython",
    "version": 3
   },
   "file_extension": ".py",
   "mimetype": "text/x-python",
   "name": "python",
   "nbconvert_exporter": "python",
   "pygments_lexer": "ipython3",
   "version": "3.7.1"
  }
 },
 "nbformat": 4,
 "nbformat_minor": 2
}
